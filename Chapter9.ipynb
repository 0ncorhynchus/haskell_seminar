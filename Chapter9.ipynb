{
 "cells": [
  {
   "cell_type": "markdown",
   "metadata": {},
   "source": [
    "# 9 もっと入出力\n",
    "\n",
    "おもしろいことの一覧\n",
    "\n",
    "- ファイルの入出力\n",
    "- 乱数生成\n",
    "- コマンドライン引数\n",
    "\n",
    "## ファイルとストリーム\n",
    "\n",
    "ファイル読み書きの前に、ストリームデータの扱いを学ぶ。\n",
    "\n",
    "### 入力のリダイレクト\n",
    "\n",
    "ファイルをリダイレクトによって入力することができる。"
   ]
  },
  {
   "cell_type": "code",
   "execution_count": 1,
   "metadata": {
    "collapsed": false
   },
   "outputs": [],
   "source": [
    "import Control.Monad\n",
    "import Data.Char\n",
    "\n",
    "main = forever $ do\n",
    "    l <- getLine\n",
    "    putStrLn $ map toUpper l"
   ]
  },
  {
   "cell_type": "markdown",
   "metadata": {},
   "source": [
    "このようなプログラムをコンパイルすると、\n",
    "```sh\n",
    "$ ./capsLocker < haiku.txt\n",
    "```\n",
    "のようにできる。\n",
    "\n",
    "また、\n",
    "```sh\n",
    "$ cat haiku.txt | ./capsLocker\n",
    "```\n",
    "のようにもできる。\n",
    "\n",
    "### 入力ストリームから文字列を得る\n",
    "\n",
    "`getContents`は入力ストリームを通常の文字列にしてくれるIOアクションである。型は`getContents :: IO String`。getLineと何が違うのか。\n",
    "\n",
    "これは入力内容を一度全て読んでメモリに読み込むのではなく、必要になるまで遅延する。\n",
    "\n",
    "これを使うと、`forever`と`getLine`で一行ずつ処理する必要はない。"
   ]
  },
  {
   "cell_type": "code",
   "execution_count": null,
   "metadata": {
    "collapsed": false
   },
   "outputs": [
    {
     "data": {
      "text/plain": [
       "HOGEHOGE\n",
       "FUGA\n",
       "PIY"
      ]
     },
     "metadata": {},
     "output_type": "display_data"
    }
   ],
   "source": [
    "import Data.Char\n",
    "\n",
    "main = do\n",
    "    contents <- getContents\n",
    "    putStr $ map toUpper contents\n",
    "\n",
    "main"
   ]
  },
  {
   "cell_type": "markdown",
   "metadata": {},
   "source": [
    "文字列もリストなので処理は遅延されるし、`getContents`も遅延される。\n",
    "\n",
    "`getContents`の結果が束縛されると、それは通常の文字列になるのではなく、_文字列として評価されるプロミス_になる。\n",
    "\n",
    "それに`toUpper`が`map`されると、_関数をmapするというプロミス_になる。\n",
    "\n",
    "最終的にputStrが呼び出されると、遅延されていた処理が実際に実行される。\n",
    "\n",
    "----\n",
    "\n",
    "次に、入力から10文字より短い行のみを出力するプログラムを作ってみる。"
   ]
  },
  {
   "cell_type": "code",
   "execution_count": null,
   "metadata": {
    "collapsed": false
   },
   "outputs": [],
   "source": [
    "main = do\n",
    "    contents <- getContents -- \"short\\nlooooooooooooooong\\nbort\"\n",
    "    putStr (shortLinesOnly contents)\n",
    "\n",
    "shortLinesOnly :: String -> String\n",
    "shortLinesOnly = unlines . filter (\\line -> length line < 10) . lines\n",
    "\n",
    "main"
   ]
  },
  {
   "cell_type": "markdown",
   "metadata": {},
   "source": [
    "これは、`lines`によって一行分の文字列のリストになり、それが長さが10以下なら`True`を返す`lambda`によってfilterされ、`unlines`によって結合され出力される。"
   ]
  },
  {
   "cell_type": "markdown",
   "metadata": {},
   "source": [
    "### 入力を変換する\n",
    "\n",
    "`interact`関数は、「入力を文字列として受け取り、関数で変換し、結果を出力する」という一連のパターンを簡単にするためのものである。\n",
    "\n",
    "`String -> String`型の関数を受け取り、入力にそれを適用し、結果を出力するようなIOアクションを返す。\n",
    "```haskell\n",
    "interact :: String -> String -> IO ()\n",
    "```\n",
    "\n",
    "これを使って、回文かどうかを判定するプログラムを書く。文字列が回文なら「回文」に、そうでないものは「回文でない」に変換される。"
   ]
  },
  {
   "cell_type": "code",
   "execution_count": null,
   "metadata": {
    "collapsed": false
   },
   "outputs": [
    {
     "data": {
      "text/plain": [
       "palindrome\n",
       "not a palindrome"
      ]
     },
     "metadata": {},
     "output_type": "display_data"
    }
   ],
   "source": [
    "respondPalindromes :: String -> String\n",
    "respondPalindromes = unlines . map(\\xs -> if isPal xs then \"palindrome\" else \"not a palindrome\") . lines\n",
    "\n",
    "isPal :: String -> Bool\n",
    "isPal xs = xs == reverse xs\n",
    "\n",
    "main = interact respondPalindromes\n",
    "\n",
    "main"
   ]
  },
  {
   "cell_type": "markdown",
   "metadata": {},
   "source": [
    "## 9.2 ファイルの読み書き\n",
    "\n",
    "「端末から読む」というのは、「特殊なファイルであるところの`stdin`から読んでいる」ということである。\n",
    "\n",
    "ファイルを読むのにはSystem.IOを用いる。"
   ]
  },
  {
   "cell_type": "code",
   "execution_count": 5,
   "metadata": {
    "collapsed": true
   },
   "outputs": [],
   "source": [
    "import System.IO\n",
    "\n",
    "main = do\n",
    "    handle <- openFile \"hoge.txt\" ReadMode\n",
    "    contents <- hGetContents handle\n",
    "    putStr contents\n",
    "    hClose handle"
   ]
  },
  {
   "cell_type": "markdown",
   "metadata": {},
   "source": [
    "#### 1行目\n",
    "`openFile`は、ファイルパスとIOModeを受け取り、ファイルに関連付けられたハンドルを返すようなIOアクションを返す。\n",
    "```haskell\n",
    "openFile :: FilePath -> IOMode -> IO Handle\n",
    "```\n",
    "`FilePath`は`String`のシノニムである。\n",
    "`IOMode`は以下の用に定義されている。\n",
    "\n",
    "```haskell\n",
    "data IOMode = ReadMode | WriteMode | AppendMode | ReadWriteMode\n",
    "```\n",
    "これは`enum`型である。`IOMode`は`IO Mode`でないことに注意したい。後者はIOアクションになってしまう。\n",
    "\n",
    "このアクションの結果を何かに束縛すると、そのファイルに対するハンドルを得られる。\n",
    "\n",
    "#### 2行目\n",
    "`hGetContents`は、ファイルのことを知っている`Handle`を受け取り、そのファイルに含まれる内容を返す`IO String`を返す。\n",
    "\n",
    "つまり、`getContents`のファイル版である。なので評価は遅延する。\n",
    "\n",
    "#### 3行目\n",
    "出力している。\n",
    "\n",
    "#### 4行目\n",
    "ハンドルを受け取り、その先のファイルを閉じる`hClose`を適用している。\n",
    "\n",
    "ハンドルが閉じられていないファイルを開こうとすると、強制終了する(ほんとに？)。"
   ]
  },
  {
   "cell_type": "markdown",
   "metadata": {},
   "source": [
    "### withFile関数\n",
    "Haskellでは手動でファイルを閉じないといけないのだろうか。\n",
    "\n",
    "```haskell\n",
    "withFile :: FilePath -> IOMode -> (Handle -> IO a) -> IO a\n",
    "```\n",
    "ファイルのパスとIOMode、それから「ハンドルを受け取ってIOアクションを返す関数」を引数に取り、「ファイルを開いて何かしてから閉じる」というIOアクションを返す。\n",
    "\n",
    "ファイルの操作中にerrorが生じると__例外__が投げられてプログラムは停止してしまうが、`withFile`はこのようなときでも問題なくファイルを閉じてくれる。\n",
    "\n",
    "先ほどと同じプログラムをこちらで実装してみる。"
   ]
  },
  {
   "cell_type": "code",
   "execution_count": 6,
   "metadata": {
    "collapsed": false
   },
   "outputs": [
    {
     "data": {
      "text/plain": [
       "hogehoge"
      ]
     },
     "metadata": {},
     "output_type": "display_data"
    }
   ],
   "source": [
    "import System.IO\n",
    "\n",
    "main = withFile \"baabaa.txt\" ReadMode $ \\handle -> do\n",
    "        contents <- hGetContents handle\n",
    "        putStr contents\n",
    "\n",
    "main"
   ]
  },
  {
   "cell_type": "markdown",
   "metadata": {},
   "source": [
    "### ブラケットの時間\n",
    "`withFile`のような「リソースを獲得し、それに対して何かを行い、確実にリソースを開放する」というものは便利なので、`Control.Exception`モジュールに`bracket`というものがある。\n",
    "```haskell\n",
    "bracket :: IO a -> (a -> IO b) -> (a -> IO c) -> IO c\n",
    "```\n",
    "これは以下を受け取る。\n",
    "1. リソースの獲得を行うようなIOアクション\n",
    "2. リソースを開放する関数\n",
    "3. リソースを受け取って何事かを行う関数\n",
    "\n",
    "`withFile`はこれを使って実装することができる。\n",
    "```haskell\n",
    "withFile :: FilePath -> IOMode -> (Handle -> IO a) -> IO a\n",
    "withFile name mode f = bracket (openFile name mode) (\\handle -> hClose handle) (\\handle -> f handle) \n",
    "```\n",
    "\n",
    "### ハンドルを握れ！\n",
    "`hGetContents`と`getContents`のような関係が、以下のものにも存在する。\n",
    "* hGetLine <==> getLine\n",
    "* hPutStr <==> putStr\n",
    "* hPutStrLn <==> putStrLn\n",
    "* hGetChar <==> getChar\n",
    "\n",
    "ファイルを読み込んで文字列として扱うのは非常に一般的な操作なので、関連した関数が3つ用意されている。\n",
    "\n",
    "#### readFile\n",
    "```haskell\n",
    "readFile :: FilePath -> IO String\n",
    "```\n",
    "`readFile`はファイルパスを受け取り、ファイルの内容を表す文字列を返すIOアクションを返す（もちろん遅延する）。"
   ]
  },
  {
   "cell_type": "code",
   "execution_count": 7,
   "metadata": {
    "collapsed": false
   },
   "outputs": [
    {
     "data": {
      "text/plain": [
       "hogehoge"
      ]
     },
     "metadata": {},
     "output_type": "display_data"
    }
   ],
   "source": [
    "import System.IO\n",
    "\n",
    "main = do\n",
    "    contents <- readFile \"baabaa.txt\"\n",
    "    putStr contents\n",
    "\n",
    "main"
   ]
  },
  {
   "cell_type": "markdown",
   "metadata": {},
   "source": [
    "readFileは自動でハンドルを閉じる。\n",
    "#### writeFile\n",
    "```haskell\n",
    "writeFile :: FilePath -> String -> IO ()\n",
    "```\n",
    "ファイルパス、書き込む文字列を受け取り、出力するIOアクションを返す。ファイルは上書きされる。\n",
    "\n",
    "#### appendFile\n",
    "上記の追記版。"
   ]
  },
  {
   "cell_type": "markdown",
   "metadata": {},
   "source": [
    "## 9.3 ToDoリスト\n",
    "\n",
    "TODOリストを作る　創刊号は事務書類がついて980円"
   ]
  },
  {
   "cell_type": "code",
   "execution_count": 8,
   "metadata": {
    "collapsed": false
   },
   "outputs": [],
   "source": [
    "import System.IO\n",
    "\n",
    "main = do\n",
    "    todoItem <- getLine\n",
    "    appendFile \"todo.txt\" (todoItem ++ \"\\n\")"
   ]
  },
  {
   "cell_type": "markdown",
   "metadata": {},
   "source": [
    "### アイテムの削除\n",
    "\n",
    "健常な人間はTODOを消化するので削除ができる必要がある。そのために`System.Directory`の関数を使う。"
   ]
  },
  {
   "cell_type": "code",
   "execution_count": 9,
   "metadata": {
    "collapsed": false
   },
   "outputs": [],
   "source": [
    "import System.IO\n",
    "import System.Directory\n",
    "import Data.List\n",
    "\n",
    "main = do\n",
    "    contents <- readFile \"todo.txt\"\n",
    "    let todoTasks = lines contents -- 行毎に分割\n",
    "        numberedTasks = zipWith(\\n line -> show n ++ \" - \" ++ line) [0..] todoTasks -- 番号を振ったタスクリストを作成\n",
    "\n",
    "    putStrLn \"there are your TO-DO items: \"\n",
    "    mapM_ putStrLn numberedTasks\n",
    "\n",
    "    putStrLn \"Which do you want to delete?\"\n",
    "    numberString <- getLine -- 消去する番号を読み取る\n",
    "    let number = read numberString -- 数字として読み込む\n",
    "        newTodoItems = unlines $ delete (todoTasks !! number) todoTasks -- todoTasksからその番号のタスクを削除\n",
    "\n",
    "    (tempName, tempHandle) <- openTempFile \".\" \"temp\" -- tempなる名前のファイルをカレントディレクトリに作成\n",
    "    hPutStr tempHandle newTodoItems\n",
    "    hClose tempHandle\n",
    "    removeFile \"todo.txt\"\n",
    "    renameFile tempName \"todo.txt\""
   ]
  },
  {
   "cell_type": "markdown",
   "metadata": {},
   "source": [
    "概ねよいが、これでは一時ファイルを開いているときにプログラムが異常終了すると、一時ファイルが削除されずに残ってしまう。"
   ]
  },
  {
   "cell_type": "markdown",
   "metadata": {},
   "source": [
    "### クリーンアップ\n",
    "\n",
    "`bracketOnError`という関数を使う。`bracket`と違って、これは`error`が生じた時にのみ作動する。"
   ]
  },
  {
   "cell_type": "code",
   "execution_count": 10,
   "metadata": {
    "collapsed": false
   },
   "outputs": [],
   "source": [
    "import System.IO\n",
    "import System.Directory\n",
    "import Data.List\n",
    "import Control.Exception\n",
    "\n",
    "main = do\n",
    "    contents <- readFile \"todo.txt\"\n",
    "    let todoTasks = lines contents\n",
    "        numberedTasks = zipWith(\\n line -> show n ++ \" - \" ++ line) [0..] todoTasks \n",
    "    putStrLn \"there are your TO-DO items: \"\n",
    "    mapM_ putStrLn numberedTasks\n",
    "    putStrLn \"Which do you want to delete?\"\n",
    "    numberString <- getLine\n",
    "    let number = read numberString\n",
    "        newTodoItems = unlines $ delete (todoTasks !! number) todoTasks\n",
    "\n",
    "-- ここから異なる\n",
    "\n",
    "    bracketOnError (openTempFile \".\" \"temp\")\n",
    "        (\\(tempName, tempHandle) -> do -- エラー処理\n",
    "            hClose tempHandle           -- tempを閉じて\n",
    "            removeFile tempName)        -- 消去する #575\n",
    "        (\\(tempName, tempHandle) -> do -- 通常時は上と同じ\n",
    "            hPutStr tempHandle newTodoItems\n",
    "            hClose tempHandle\n",
    "            removeFile \"todo.txt\"\n",
    "            renameFile tempName \"todo.txt\")"
   ]
  },
  {
   "cell_type": "markdown",
   "metadata": {},
   "source": [
    "### 9.4 コマンドライン引数\n",
    "`System.Environment`にある、`getArgs`と`getProgName`を使う。\n",
    "```haskell\n",
    "getArgs :: IO [String]\n",
    "getProgName :: IO String\n",
    "```\n",
    "これらは名前と型の通りの挙動をする。"
   ]
  },
  {
   "cell_type": "code",
   "execution_count": 1,
   "metadata": {
    "collapsed": false
   },
   "outputs": [
    {
     "data": {
      "text/plain": [
       "the arguments are: \n",
       "kernel\n",
       "/root/.local/share/jupyter/runtime/kernel-b533b1ff-d555-4e78-882b-7c72a2b38775.json\n",
       "--ghclib\n",
       "/root/.stack/programs/x86_64-linux/ghc-7.10.2/lib/ghc-7.10.2\n",
       "the program name is: \n",
       "ihaskell"
      ]
     },
     "metadata": {},
     "output_type": "display_data"
    }
   ],
   "source": [
    "import System.Environment\n",
    "import Data.List\n",
    "\n",
    "main = do\n",
    "    args <- getArgs -- argv[1], argv[2], ...\n",
    "    progName <- getProgName -- argv[0]\n",
    "    putStrLn \"the arguments are: \"\n",
    "    mapM_ putStrLn args\n",
    "    putStrLn \"the program name is: \"\n",
    "    putStrLn progName\n",
    "    \n",
    "main"
   ]
  },
  {
   "cell_type": "markdown",
   "metadata": {},
   "source": [
    "## 9.5 ToDoリストをもっと楽しむ\n",
    "\n",
    "要求仕様\n",
    "* タスクを閲覧する\n",
    "    * `./todo view todo.txt`\n",
    "* タスクを追加する\n",
    "    * `./todo add todo.txt \"find the magic sword of power\"`\n",
    "* タスクを削除する\n",
    "    * `./todo remove todo.txt 2`\n",
    "    \n",
    "### マルチタスクタスクリスト\n",
    "\n",
    "まずは、コマンドを受けとり、引数リストを受け取って動作を行うIOアクションを返す関数を作る。高階関数が便利過ぎる。"
   ]
  },
  {
   "cell_type": "code",
   "execution_count": 12,
   "metadata": {
    "collapsed": false
   },
   "outputs": [],
   "source": [
    "import System.Environment\n",
    "import System.Directory\n",
    "import System.IO\n",
    "import Data.List\n",
    "\n",
    "dispatch :: String -> [String] -> IO ()\n",
    "dispatch \"add\" = add\n",
    "dispatch \"view\" = view\n",
    "dispatch \"remove\" = remove\n",
    "\n",
    "main = do\n",
    "    (command:argList) <- getArgs -- 最初の引数はcommandに格納\n",
    "    dispatch command argList\n",
    "\n",
    "add :: [String] -> IO () -- ここでは不正な入力は考慮しない\n",
    "add [fileName, todoItem] = appendFile fileName (todoItem ++ \"\\n\")\n",
    "\n",
    "view :: [String] -> IO () -- removeするときと基本的に同じ\n",
    "view [fileName] = do \n",
    "    contents <- readFile fileName\n",
    "    let todoTasks = lines contents\n",
    "        numberedTasks = zipWith(\\n line -> show n ++ \" - \" ++ line) [0..] todoTasks\n",
    "    putStr $ unlines numberedTasks\n",
    "\n",
    "remove :: [String] -> IO ()\n",
    "remove [fileName, numberString] = do -- さっき実装したものと同じ\n",
    "    contents <- readFile fileName\n",
    "    let todoTasks = lines contents\n",
    "        numberedTasks = zipWith(\\n line -> show n ++ \" - \" ++ line) [0..] todoTasks\n",
    "    putStrLn \"there are your TO-DO items: \"\n",
    "    mapM_ putStrLn numberedTasks\n",
    "    putStrLn \"Which do you want to delete?\"\n",
    "    numberString <- getLine\n",
    "    let number = read numberString\n",
    "        newTodoItems = unlines $ delete (todoTasks !! number) todoTasks\n",
    "    bracketOnError (openTempFile \".\" \"temp\")\n",
    "        (\\(tempName, tempHandle) -> do\n",
    "            hClose tempHandle\n",
    "            removeFile tempName)\n",
    "        (\\(tempName, tempHandle) -> do\n",
    "            hPutStr tempHandle newTodoItems\n",
    "            hClose tempHandle\n",
    "            removeFile \"todo.txt\"\n",
    "            renameFile tempName \"todo.txt\")"
   ]
  },
  {
   "cell_type": "markdown",
   "metadata": {},
   "source": [
    "### 不正な入力に対応する\n",
    "dispatch関数の最後に、全てを拾うパターンを追加し、存在しないコマンドにはそれなりのメッセージを返す。"
   ]
  },
  {
   "cell_type": "code",
   "execution_count": 13,
   "metadata": {
    "collapsed": false
   },
   "outputs": [],
   "source": [
    "import System.Environment\n",
    "import System.Directory\n",
    "import System.IO\n",
    "import Data.List\n",
    "\n",
    "dispatch :: String -> [String] -> IO ()\n",
    "dispatch \"add\" = add\n",
    "dispatch \"view\" = view\n",
    "dispatch \"remove\" = remove\n",
    "dispatch command = doesntExist command\n",
    "\n",
    "doesntExist :: String -> [String] -> IO ()\n",
    "doesntExist command _ = putStrLn $ \"The \" ++ command ++ \" command doesn't exist\""
   ]
  },
  {
   "cell_type": "markdown",
   "metadata": {},
   "source": [
    "さらに、addなどの引数がおかしかったとき用のパターンも用意しておく。パターンマッチが便利だ。"
   ]
  },
  {
   "cell_type": "code",
   "execution_count": 14,
   "metadata": {
    "collapsed": true
   },
   "outputs": [],
   "source": [
    "add :: [String] -> IO ()\n",
    "add [fileName, todoItem] = appendFile fileName (todoItem ++ \"\\n\")\n",
    "add _ = putStrLn \"The add command takes exactly two arguments\""
   ]
  },
  {
   "cell_type": "markdown",
   "metadata": {},
   "source": [
    "まだmainで引数リストが一つ以上だとしていること、またファイルが存在するかどうかを確認していないことなどが残っている。"
   ]
  },
  {
   "cell_type": "markdown",
   "metadata": {},
   "source": [
    "## 9.6 ランダム性\n",
    "\n",
    "Haskellでは参照透明性のおかげで乱数生成ルーチンが面倒になってしまう\n",
    "\n",
    "`System.Random`モジュールの`random`は、\n",
    "```haskell\n",
    "random :: (RandomGen g, Random a) => g -> (a, g)\n",
    "```\n",
    "のようになっている。`RandomGen`型クラスはランダム性を生成するものの型、`Random`型クラスはランダムな値になり得る型である。\n",
    "\n",
    "つまり、これは乱数生成器を受け取り、乱数と（アップデートされた）乱数生成器を返す。\n",
    "\n",
    "`mkStdGen`を使うことで、乱数生成機を作ることができる。"
   ]
  },
  {
   "cell_type": "code",
   "execution_count": 15,
   "metadata": {
    "collapsed": false
   },
   "outputs": [
    {
     "data": {
      "text/plain": [
       "(-3633736515773289454,693699796 2103410263)"
      ]
     },
     "metadata": {},
     "output_type": "display_data"
    },
    {
     "data": {
      "text/plain": [
       "(-3633736515773289454,693699796 2103410263)"
      ]
     },
     "metadata": {},
     "output_type": "display_data"
    },
    {
     "data": {
      "text/plain": [
       "(-6423851212088117412,2063054562 2103410263)"
      ]
     },
     "metadata": {},
     "output_type": "display_data"
    }
   ],
   "source": [
    "import System.Random\n",
    "\n",
    "random (mkStdGen 100) :: (Int, StdGen)\n",
    "random (mkStdGen 100) :: (Int, StdGen) -- 同じ呼び出しなので同じものが来るはず\n",
    "random (mkStdGen 999) :: (Int, StdGen) -- 違うはず"
   ]
  },
  {
   "cell_type": "markdown",
   "metadata": {},
   "source": [
    "### コイントス\n",
    "連続で乱数を出すには、前回生成された乱数生成機を使えばよい。"
   ]
  },
  {
   "cell_type": "code",
   "execution_count": 16,
   "metadata": {
    "collapsed": false
   },
   "outputs": [
    {
     "data": {
      "text/plain": [
       "(True,True,True)"
      ]
     },
     "metadata": {},
     "output_type": "display_data"
    },
    {
     "data": {
      "text/plain": [
       "(True,False,False)"
      ]
     },
     "metadata": {},
     "output_type": "display_data"
    },
    {
     "data": {
      "text/plain": [
       "(True,False,False)"
      ]
     },
     "metadata": {},
     "output_type": "display_data"
    }
   ],
   "source": [
    "import System.Random\n",
    "\n",
    "threeCoins :: StdGen -> (Bool, Bool, Bool)\n",
    "threeCoins gen = \n",
    "    let (firstCoin, newGen) = random gen :: (Bool, StdGen) -- 抜かすと怒られてしまった\n",
    "        (secondCoin, newGen') = random newGen :: (Bool, StdGen)\n",
    "        (thirdCoin, newGen'') = random newGen' :: (Bool, StdGen)\n",
    "    in (firstCoin, secondCoin, thirdCoin)\n",
    "\n",
    "threeCoins (mkStdGen 1234)\n",
    "threeCoins (mkStdGen 567)\n",
    "threeCoins (mkStdGen 89)"
   ]
  },
  {
   "cell_type": "markdown",
   "metadata": {},
   "source": [
    "### ランダムな関数をもっと\n",
    "\n",
    "`randoms`はジェネレータを受け取って乱数の入った無限リストを返す"
   ]
  },
  {
   "cell_type": "code",
   "execution_count": 17,
   "metadata": {
    "collapsed": false
   },
   "outputs": [
    {
     "data": {
      "text/plain": [
       "[5260538044923710387,4361398698747678847,-8221315287270277529,7278185606566790575,1652507602255180489]"
      ]
     },
     "metadata": {},
     "output_type": "display_data"
    }
   ],
   "source": [
    "import System.Random\n",
    "\n",
    "take 5 $ randoms (mkStdGen 11) :: [Int]"
   ]
  },
  {
   "cell_type": "markdown",
   "metadata": {},
   "source": [
    "`randoms`は`([a], g)`のような形では生成器は返せない。無限の長さのリストを返すからだ。"
   ]
  },
  {
   "cell_type": "code",
   "execution_count": 18,
   "metadata": {
    "collapsed": false
   },
   "outputs": [
    {
     "data": {
      "text/html": [
       "<style>/* Styles used for the Hoogle display in the pager */\n",
       ".hoogle-doc {\n",
       "display: block;\n",
       "padding-bottom: 1.3em;\n",
       "padding-left: 0.4em;\n",
       "}\n",
       ".hoogle-code {\n",
       "display: block;\n",
       "font-family: monospace;\n",
       "white-space: pre;\n",
       "}\n",
       ".hoogle-text {\n",
       "display: block;\n",
       "}\n",
       ".hoogle-name {\n",
       "color: green;\n",
       "font-weight: bold;\n",
       "}\n",
       ".hoogle-head {\n",
       "font-weight: bold;\n",
       "}\n",
       ".hoogle-sub {\n",
       "display: block;\n",
       "margin-left: 0.4em;\n",
       "}\n",
       ".hoogle-package {\n",
       "font-weight: bold;\n",
       "font-style: italic;\n",
       "}\n",
       ".hoogle-module {\n",
       "font-weight: bold;\n",
       "}\n",
       ".hoogle-class {\n",
       "font-weight: bold;\n",
       "}\n",
       ".get-type {\n",
       "color: green;\n",
       "font-weight: bold;\n",
       "font-family: monospace;\n",
       "display: block;\n",
       "white-space: pre-wrap;\n",
       "}\n",
       ".show-type {\n",
       "color: green;\n",
       "font-weight: bold;\n",
       "font-family: monospace;\n",
       "margin-left: 1em;\n",
       "}\n",
       ".mono {\n",
       "font-family: monospace;\n",
       "display: block;\n",
       "}\n",
       ".err-msg {\n",
       "color: red;\n",
       "font-style: italic;\n",
       "font-family: monospace;\n",
       "white-space: pre;\n",
       "display: block;\n",
       "}\n",
       "#unshowable {\n",
       "color: red;\n",
       "font-weight: bold;\n",
       "}\n",
       ".err-msg.in.collapse {\n",
       "padding-top: 0.7em;\n",
       "}\n",
       ".highlight-code {\n",
       "white-space: pre;\n",
       "font-family: monospace;\n",
       "}\n",
       ".suggestion-warning { \n",
       "font-weight: bold;\n",
       "color: rgb(200, 130, 0);\n",
       "}\n",
       ".suggestion-error { \n",
       "font-weight: bold;\n",
       "color: red;\n",
       "}\n",
       ".suggestion-name {\n",
       "font-weight: bold;\n",
       "}\n",
       "</style><span class='err-msg'>No instance for (Random t0)<br/>The type variable `t0' is ambiguous<br/>When checking that `newGen' has the inferred type<br/>  newGen :: g<br/>Probable cause: the inferred type is ambiguous<br/>In the expression: let (value, newGen) = random gen in value : interactive:IHaskell330.randoms' newGen<br/>In an equation for randoms': randoms' gen = let (value, newGen) = random gen in value : interactive:IHaskell330.randoms' newGen<br/><br/>Could not deduce (RandomGen g0) arising from a use of interactive:IHaskell330.randoms'<br/>from the context (RandomGen g, Random a) bound by the type signature for interactive:IHaskell330.randoms' :: (RandomGen g, Random a) => g -> [a] at <interactive>:1:13-47<br/>The type variable `g0' is ambiguous<br/>Note: there is a potential instance available: instance RandomGen StdGen -- Defined in `System.Random'<br/>In the second argument of `(:)', namely `interactive:IHaskell330.randoms' newGen'<br/>In the expression: value : interactive:IHaskell330.randoms' newGen<br/>In the expression: let (value, newGen) = random gen in value : interactive:IHaskell330.randoms' newGen</span>"
      ],
      "text/plain": [
       "No instance for (Random t0)\n",
       "The type variable `t0' is ambiguous\n",
       "When checking that `newGen' has the inferred type\n",
       "  newGen :: g\n",
       "Probable cause: the inferred type is ambiguous\n",
       "In the expression: let (value, newGen) = random gen in value : interactive:Ghci330.randoms' newGen\n",
       "In an equation for randoms': randoms' gen = let (value, newGen) = random gen in value : interactive:Ghci330.randoms' newGen\n",
       "\n",
       "Could not deduce (RandomGen g0) arising from a use of interactive:Ghci330.randoms'\n",
       "from the context (RandomGen g, Random a) bound by the type signature for interactive:Ghci330.randoms' :: (RandomGen g, Random a) => g -> [a] at <interactive>:1:13-47\n",
       "The type variable `g0' is ambiguous\n",
       "Note: there is a potential instance available: instance RandomGen StdGen -- Defined in `System.Random'\n",
       "In the second argument of `(:)', namely `interactive:Ghci330.randoms' newGen'\n",
       "In the expression: value : interactive:Ghci330.randoms' newGen\n",
       "In the expression: let (value, newGen) = random gen in value : interactive:Ghci330.randoms' newGen"
      ]
     },
     "metadata": {},
     "output_type": "display_data"
    }
   ],
   "source": [
    "import System.Random\n",
    "\n",
    "randoms' :: (RandomGen g, Random a) => g -> [a]\n",
    "randoms' gen =\n",
    "    let (value, newGen) = random gen\n",
    "    in value:randoms' newGen\n",
    "\n",
    "take 5 $ randoms' (mkStdGen 11) :: [Int]"
   ]
  },
  {
   "cell_type": "markdown",
   "metadata": {},
   "source": [
    "型推論に失敗しておられるので困る"
   ]
  },
  {
   "cell_type": "code",
   "execution_count": 19,
   "metadata": {
    "collapsed": false
   },
   "outputs": [
    {
     "data": {
      "text/html": [
       "<style>/* Styles used for the Hoogle display in the pager */\n",
       ".hoogle-doc {\n",
       "display: block;\n",
       "padding-bottom: 1.3em;\n",
       "padding-left: 0.4em;\n",
       "}\n",
       ".hoogle-code {\n",
       "display: block;\n",
       "font-family: monospace;\n",
       "white-space: pre;\n",
       "}\n",
       ".hoogle-text {\n",
       "display: block;\n",
       "}\n",
       ".hoogle-name {\n",
       "color: green;\n",
       "font-weight: bold;\n",
       "}\n",
       ".hoogle-head {\n",
       "font-weight: bold;\n",
       "}\n",
       ".hoogle-sub {\n",
       "display: block;\n",
       "margin-left: 0.4em;\n",
       "}\n",
       ".hoogle-package {\n",
       "font-weight: bold;\n",
       "font-style: italic;\n",
       "}\n",
       ".hoogle-module {\n",
       "font-weight: bold;\n",
       "}\n",
       ".hoogle-class {\n",
       "font-weight: bold;\n",
       "}\n",
       ".get-type {\n",
       "color: green;\n",
       "font-weight: bold;\n",
       "font-family: monospace;\n",
       "display: block;\n",
       "white-space: pre-wrap;\n",
       "}\n",
       ".show-type {\n",
       "color: green;\n",
       "font-weight: bold;\n",
       "font-family: monospace;\n",
       "margin-left: 1em;\n",
       "}\n",
       ".mono {\n",
       "font-family: monospace;\n",
       "display: block;\n",
       "}\n",
       ".err-msg {\n",
       "color: red;\n",
       "font-style: italic;\n",
       "font-family: monospace;\n",
       "white-space: pre;\n",
       "display: block;\n",
       "}\n",
       "#unshowable {\n",
       "color: red;\n",
       "font-weight: bold;\n",
       "}\n",
       ".err-msg.in.collapse {\n",
       "padding-top: 0.7em;\n",
       "}\n",
       ".highlight-code {\n",
       "white-space: pre;\n",
       "font-family: monospace;\n",
       "}\n",
       ".suggestion-warning { \n",
       "font-weight: bold;\n",
       "color: rgb(200, 130, 0);\n",
       "}\n",
       ".suggestion-error { \n",
       "font-weight: bold;\n",
       "color: red;\n",
       "}\n",
       ".suggestion-name {\n",
       "font-weight: bold;\n",
       "}\n",
       "</style><span class='err-msg'>No instance for (Random t0)<br/>The type variable `t0' is ambiguous<br/>When checking that `newGen' has the inferred type<br/>  newGen :: g<br/>Probable cause: the inferred type is ambiguous<br/>In the expression: let (value, newGen) = random gen in (value, newGen) : interactive:IHaskell330.randoms' newGen<br/>In an equation for randoms': randoms' gen = let (value, newGen) = random gen in (value, newGen) : interactive:IHaskell330.randoms' newGen</span>"
      ],
      "text/plain": [
       "No instance for (Random t0)\n",
       "The type variable `t0' is ambiguous\n",
       "When checking that `newGen' has the inferred type\n",
       "  newGen :: g\n",
       "Probable cause: the inferred type is ambiguous\n",
       "In the expression: let (value, newGen) = random gen in (value, newGen) : interactive:Ghci330.randoms' newGen\n",
       "In an equation for randoms': randoms' gen = let (value, newGen) = random gen in (value, newGen) : interactive:Ghci330.randoms' newGen"
      ]
     },
     "metadata": {},
     "output_type": "display_data"
    }
   ],
   "source": [
    "import System.Random\n",
    "\n",
    "randoms' :: (RandomGen g, Random a) => g -> [(a, g)]\n",
    "randoms' gen =\n",
    "    let (value, newGen) = random gen\n",
    "    in (value, newGen):randoms' newGen"
   ]
  },
  {
   "cell_type": "markdown",
   "metadata": {},
   "source": [
    "毎ステップでnewGenも一緒になら返せるっぽい"
   ]
  },
  {
   "cell_type": "markdown",
   "metadata": {},
   "source": [
    "返すリストが有限でよいなら、ジェネレータも返すことができる。"
   ]
  },
  {
   "cell_type": "code",
   "execution_count": 20,
   "metadata": {
    "collapsed": false
   },
   "outputs": [
    {
     "data": {
      "text/html": [
       "<style>/* Styles used for the Hoogle display in the pager */\n",
       ".hoogle-doc {\n",
       "display: block;\n",
       "padding-bottom: 1.3em;\n",
       "padding-left: 0.4em;\n",
       "}\n",
       ".hoogle-code {\n",
       "display: block;\n",
       "font-family: monospace;\n",
       "white-space: pre;\n",
       "}\n",
       ".hoogle-text {\n",
       "display: block;\n",
       "}\n",
       ".hoogle-name {\n",
       "color: green;\n",
       "font-weight: bold;\n",
       "}\n",
       ".hoogle-head {\n",
       "font-weight: bold;\n",
       "}\n",
       ".hoogle-sub {\n",
       "display: block;\n",
       "margin-left: 0.4em;\n",
       "}\n",
       ".hoogle-package {\n",
       "font-weight: bold;\n",
       "font-style: italic;\n",
       "}\n",
       ".hoogle-module {\n",
       "font-weight: bold;\n",
       "}\n",
       ".hoogle-class {\n",
       "font-weight: bold;\n",
       "}\n",
       ".get-type {\n",
       "color: green;\n",
       "font-weight: bold;\n",
       "font-family: monospace;\n",
       "display: block;\n",
       "white-space: pre-wrap;\n",
       "}\n",
       ".show-type {\n",
       "color: green;\n",
       "font-weight: bold;\n",
       "font-family: monospace;\n",
       "margin-left: 1em;\n",
       "}\n",
       ".mono {\n",
       "font-family: monospace;\n",
       "display: block;\n",
       "}\n",
       ".err-msg {\n",
       "color: red;\n",
       "font-style: italic;\n",
       "font-family: monospace;\n",
       "white-space: pre;\n",
       "display: block;\n",
       "}\n",
       "#unshowable {\n",
       "color: red;\n",
       "font-weight: bold;\n",
       "}\n",
       ".err-msg.in.collapse {\n",
       "padding-top: 0.7em;\n",
       "}\n",
       ".highlight-code {\n",
       "white-space: pre;\n",
       "font-family: monospace;\n",
       "}\n",
       ".suggestion-warning { \n",
       "font-weight: bold;\n",
       "color: rgb(200, 130, 0);\n",
       "}\n",
       ".suggestion-error { \n",
       "font-weight: bold;\n",
       "color: red;\n",
       "}\n",
       ".suggestion-name {\n",
       "font-weight: bold;\n",
       "}\n",
       "</style><span class='err-msg'>No instance for (Random t0)<br/>The type variable `t0' is ambiguous<br/>When checking that `newGen' has the inferred type<br/>  newGen :: g<br/>Probable cause: the inferred type is ambiguous<br/>In the expression:<br/>  let<br/>    (value, newGen) = random gen<br/>    (restOfList, finalGen) = interactive:IHaskell330.finiteRandoms' (n - 1) newGen<br/>  in (value : restOfList, finalGen)<br/>In an equation for finiteRandoms':<br/>    finiteRandoms' n gen<br/>      = let<br/>          (value, newGen) = random gen<br/>          (restOfList, finalGen) = interactive:IHaskell330.finiteRandoms' (n - 1) newGen<br/>        in (value : restOfList, finalGen)<br/><br/>Could not deduce (RandomGen t0)<br/>from the context (Random a) bound by the inferred type for `restOfList': Random a => [a] at <interactive>:5:9-60<br/>The type variable `t0' is ambiguous<br/>When checking that `restOfList' has the inferred type<br/>  restOfList :: forall a. Random a => [a]<br/>Probable cause: the inferred type is ambiguous<br/>In the expression:<br/>  let<br/>    (value, newGen) = random gen<br/>    (restOfList, finalGen) = interactive:IHaskell330.finiteRandoms' (n - 1) newGen<br/>  in (value : restOfList, finalGen)<br/>In an equation for finiteRandoms':<br/>    finiteRandoms' n gen<br/>      = let<br/>          (value, newGen) = random gen<br/>          (restOfList, finalGen) = interactive:IHaskell330.finiteRandoms' (n - 1) newGen<br/>        in (value : restOfList, finalGen)<br/><br/>Could not deduce (Random a0)<br/>from the context (RandomGen t) bound by the inferred type for `finalGen': RandomGen t => t at <interactive>:5:9-60<br/>The type variable `a0' is ambiguous<br/>When checking that `finalGen' has the inferred type<br/>  finalGen :: forall t. RandomGen t => t<br/>Probable cause: the inferred type is ambiguous<br/>In the expression:<br/>  let<br/>    (value, newGen) = random gen<br/>    (restOfList, finalGen) = interactive:IHaskell330.finiteRandoms' (n - 1) newGen<br/>  in (value : restOfList, finalGen)<br/>In an equation for finiteRandoms':<br/>    finiteRandoms' n gen<br/>      = let<br/>          (value, newGen) = random gen<br/>          (restOfList, finalGen) = interactive:IHaskell330.finiteRandoms' (n - 1) newGen<br/>        in (value : restOfList, finalGen)<br/><br/>Could not deduce (Eq n) arising from the literal `0'<br/>from the context (RandomGen g, Random a, Num n) bound by the type signature for interactive:IHaskell330.finiteRandoms' :: (RandomGen g, Random a, Num n) => n -> g -> ([a], g) at <interactive>:1:19-70<br/>Possible fix: add (Eq n) to the context of the type signature for interactive:IHaskell330.finiteRandoms' :: (RandomGen g, Random a, Num n) => n -> g -> ([a], g)<br/>In the pattern: 0<br/>In an equation for finiteRandoms': finiteRandoms' 0 gen = ([], gen)</span>"
      ],
      "text/plain": [
       "No instance for (Random t0)\n",
       "The type variable `t0' is ambiguous\n",
       "When checking that `newGen' has the inferred type\n",
       "  newGen :: g\n",
       "Probable cause: the inferred type is ambiguous\n",
       "In the expression:\n",
       "  let\n",
       "    (value, newGen) = random gen\n",
       "    (restOfList, finalGen) = interactive:Ghci330.finiteRandoms' (n - 1) newGen\n",
       "  in (value : restOfList, finalGen)\n",
       "In an equation for finiteRandoms':\n",
       "    finiteRandoms' n gen\n",
       "      = let\n",
       "          (value, newGen) = random gen\n",
       "          (restOfList, finalGen) = interactive:Ghci330.finiteRandoms' (n - 1) newGen\n",
       "        in (value : restOfList, finalGen)\n",
       "\n",
       "Could not deduce (RandomGen t0)\n",
       "from the context (Random a) bound by the inferred type for `restOfList': Random a => [a] at <interactive>:5:9-60\n",
       "The type variable `t0' is ambiguous\n",
       "When checking that `restOfList' has the inferred type\n",
       "  restOfList :: forall a. Random a => [a]\n",
       "Probable cause: the inferred type is ambiguous\n",
       "In the expression:\n",
       "  let\n",
       "    (value, newGen) = random gen\n",
       "    (restOfList, finalGen) = interactive:Ghci330.finiteRandoms' (n - 1) newGen\n",
       "  in (value : restOfList, finalGen)\n",
       "In an equation for finiteRandoms':\n",
       "    finiteRandoms' n gen\n",
       "      = let\n",
       "          (value, newGen) = random gen\n",
       "          (restOfList, finalGen) = interactive:Ghci330.finiteRandoms' (n - 1) newGen\n",
       "        in (value : restOfList, finalGen)\n",
       "\n",
       "Could not deduce (Random a0)\n",
       "from the context (RandomGen t) bound by the inferred type for `finalGen': RandomGen t => t at <interactive>:5:9-60\n",
       "The type variable `a0' is ambiguous\n",
       "When checking that `finalGen' has the inferred type\n",
       "  finalGen :: forall t. RandomGen t => t\n",
       "Probable cause: the inferred type is ambiguous\n",
       "In the expression:\n",
       "  let\n",
       "    (value, newGen) = random gen\n",
       "    (restOfList, finalGen) = interactive:Ghci330.finiteRandoms' (n - 1) newGen\n",
       "  in (value : restOfList, finalGen)\n",
       "In an equation for finiteRandoms':\n",
       "    finiteRandoms' n gen\n",
       "      = let\n",
       "          (value, newGen) = random gen\n",
       "          (restOfList, finalGen) = interactive:Ghci330.finiteRandoms' (n - 1) newGen\n",
       "        in (value : restOfList, finalGen)\n",
       "\n",
       "Could not deduce (Eq n) arising from the literal `0'\n",
       "from the context (RandomGen g, Random a, Num n) bound by the type signature for interactive:Ghci330.finiteRandoms' :: (RandomGen g, Random a, Num n) => n -> g -> ([a], g) at <interactive>:1:19-70\n",
       "Possible fix: add (Eq n) to the context of the type signature for interactive:Ghci330.finiteRandoms' :: (RandomGen g, Random a, Num n) => n -> g -> ([a], g)\n",
       "In the pattern: 0\n",
       "In an equation for finiteRandoms': finiteRandoms' 0 gen = ([], gen)"
      ]
     },
     "metadata": {},
     "output_type": "display_data"
    }
   ],
   "source": [
    "import System.Random\n",
    "\n",
    "finiteRandoms' :: (RandomGen g, Random a, Num n) => n -> g -> ([a], g)\n",
    "finiteRandoms' 0 gen = ([], gen)\n",
    "finiteRandoms' n gen =\n",
    "    let (value, newGen) = random gen\n",
    "        (restOfList, finalGen) = finiteRandoms' (n-1) newGen\n",
    "    in (value:restOfList, finalGen)"
   ]
  },
  {
   "cell_type": "markdown",
   "metadata": {},
   "source": [
    "生成される乱数の範囲を指定したい場合は、`randomR`を用いる。\n",
    "```haskell\n",
    "randomR :: (RandomGen g, Random a) => (a, a) -> g -> (a, g)\n",
    "```\n",
    "のようになっている。これは上限と下限のペアを受け取って、その範囲内の乱数を返す。\n",
    "\n",
    "これの無限リスト版として、`randomRs`が用意されている。"
   ]
  },
  {
   "cell_type": "code",
   "execution_count": 21,
   "metadata": {
    "collapsed": false
   },
   "outputs": [
    {
     "data": {
      "text/plain": [
       "(2,418685258 40692)"
      ]
     },
     "metadata": {},
     "output_type": "display_data"
    },
    {
     "data": {
      "text/plain": [
       "\"xnuhlfwywq\""
      ]
     },
     "metadata": {},
     "output_type": "display_data"
    }
   ],
   "source": [
    "import System.Random\n",
    "\n",
    "randomR (1,6) (mkStdGen 3445234)\n",
    "take 10 $ randomRs ('a', 'z') (mkStdGen 3) :: String"
   ]
  },
  {
   "cell_type": "markdown",
   "metadata": {},
   "source": [
    "### ランダム性とIO\n",
    "\n",
    "`System.Random`には、`getStdGen`なる`IO StdGen`型のIOアクションがある。これによってシステムのグローバル乱数生成器を初期化できる。"
   ]
  },
  {
   "cell_type": "code",
   "execution_count": 1,
   "metadata": {
    "collapsed": false
   },
   "outputs": [
    {
     "data": {
      "text/plain": [
       "enrxcavkhmwqufzsjmln\n",
       "enrxcavkhmwqufzsjmln"
      ]
     },
     "metadata": {},
     "output_type": "display_data"
    }
   ],
   "source": [
    "import System.Random\n",
    "\n",
    "main = do\n",
    "    gen <- getStdGen\n",
    "    putStrLn $ take 20 $ randomRs ('a', 'z') gen\n",
    "    gen2 <- getStdGen\n",
    "    putStrLn $ take 20 $ randomRs ('a', 'z') gen2 -- 何度やっても同じ！\n",
    "\n",
    "main"
   ]
  },
  {
   "cell_type": "markdown",
   "metadata": {},
   "source": [
    "二つの異なる文字列を得るには、`newStdGen`を用いる。これによって新しい乱数生成器が作られ、またグローバル生成器も更新される。"
   ]
  },
  {
   "cell_type": "code",
   "execution_count": 6,
   "metadata": {
    "collapsed": false
   },
   "outputs": [
    {
     "data": {
      "text/plain": [
       "sxehgiazlshuctimxjaf\n",
       "usfghwmcnfgxuuhukrgp"
      ]
     },
     "metadata": {},
     "output_type": "display_data"
    }
   ],
   "source": [
    "import System.Random\n",
    "\n",
    "main = do\n",
    "    gen <- getStdGen\n",
    "    putStrLn $ take 20 $ randomRs ('a', 'z') gen\n",
    "    gen2 <- newStdGen\n",
    "    putStrLn $ take 20 $ randomRs ('a', 'z') gen2\n",
    "    \n",
    "main"
   ]
  },
  {
   "cell_type": "markdown",
   "metadata": {},
   "source": [
    "これを使って数当てゲームができるようになる。"
   ]
  },
  {
   "cell_type": "code",
   "execution_count": 24,
   "metadata": {
    "collapsed": false
   },
   "outputs": [],
   "source": [
    "import System.Random\n",
    "import Control.Monad(when)\n",
    "\n",
    "main = do\n",
    "    gen <- getStdGen\n",
    "    askForNumber gen\n",
    "    \n",
    "askForNumber :: StdGen -> IO ()\n",
    "askForNumber gen = do\n",
    "    let (randNumber, newGen) = randomR (1,10) gen :: (Int, StdGen) -- 乱数を思い描く\n",
    "    putStrLn \"Which number in the range [1,10] am I thinking of?\"\n",
    "    numberString <-getLine\n",
    "    when (not $ null numberString) $ do -- 入力が空でないか確認\n",
    "        let number = read numberString\n",
    "        if randNumber == number\n",
    "            then putStrLn \"you are correct!\"\n",
    "            else putStrLn $ \"Sorry, it was \" ++ show randNumber\n",
    "        askForNumber newGen"
   ]
  },
  {
   "cell_type": "markdown",
   "metadata": {},
   "source": [
    "## 9.7 bytestring\n",
    "リストは非常に便利だが、ファイルを文字列にするときはランタイムコストに注意しなければならない。\n",
    "\n",
    "リストは遅延評価されるので、例えば`[1,2,3,4]`は`1:2:3:4:[]`と等価だが、その先頭要素を処理しても残りの`2:3:4:[]`は未評価である。これを__サンク__と呼ぶ。Haskellはサンクによって計算を遅延している。\n",
    "\n",
    "リストは、必要になると先頭の要素と後続要素になるはずのプロミスを渡してくれるようなプロミスであると考えられる。\n",
    "\n",
    "大きなファイルを読み込んだりすると、これによるオーバーヘッドが問題になることが多い。それを解決するために、`bytestring`が存在する。\n",
    "\n",
    "`bytestring`はリストに似たデータ構造であるが、よそは1バイトに固定されており、遅延評価を行うための方法も異なる。\n",
    "\n",
    "### 正格bytestringと遅延bytestring\n",
    "\n",
    "正格bytestringは`Data.ByteString`で提供されており、遅延評価を行わない。\n",
    "\n",
    "遅延bytestringは`Data.ByteString.Lazy`で提供されており、遅延評価を行うが、64キロバイト（L2キャッシュを念頭に置いて作られている）のチャンク単位で格納されており、遅延評価もこの単位で行われる。これによって、要素数と同じ量のサンクがあるリストよりも高速に処理することができる。\n",
    "\n",
    "`Data.ByteString.Lazy`では`Data.List`と同様の関数が定義されている。\n",
    "\n",
    "#### pack\n",
    "```haskell\n",
    "pack :: [Word8] -> ByteString\n",
    "```\n",
    "は、Word8型のリストをByteStringに格納する。ここで、`Word8`は8bit符号なし整数であり、Num型クラスのインスタンスである。\n",
    "\n",
    "数からbytestringにpackし、またunpackするには以下のようにする。"
   ]
  },
  {
   "cell_type": "code",
   "execution_count": 25,
   "metadata": {
    "collapsed": false
   },
   "outputs": [
    {
     "data": {
      "text/plain": [
       "[99,97,110]"
      ]
     },
     "metadata": {},
     "output_type": "display_data"
    }
   ],
   "source": [
    "import Data.ByteString.Lazy\n",
    "\n",
    "let bys = pack [99, 97, 110]\n",
    "unpack bys"
   ]
  },
  {
   "cell_type": "markdown",
   "metadata": {},
   "source": [
    "packする値が少なければ、一つのチャンクに収まる。また、数が`Word8`であることは強制されるので、明示する必要はない。\n",
    "もし大きい数を入れると、オーバーフローする。\n",
    "\n",
    "正格bytestringと遅延bytestringは相互に変換できる。"
   ]
  },
  {
   "cell_type": "code",
   "execution_count": 26,
   "metadata": {
    "collapsed": false
   },
   "outputs": [
    {
     "data": {
      "text/plain": [
       "\"()*+,-./0\""
      ]
     },
     "metadata": {},
     "output_type": "display_data"
    }
   ],
   "source": [
    "import qualified Data.ByteString.Lazy as B\n",
    "import qualified Data.ByteString as S\n",
    "\n",
    "B.fromChunks [S.pack [40,41,42], S.pack [43, 44, 45], S.pack [46, 47, 48]]"
   ]
  },
  {
   "cell_type": "markdown",
   "metadata": {},
   "source": [
    "bytestringでは`:`は`cons`である。\n",
    "\n",
    "それ以外の関数は、`Data.List`と同じインターフェースになっている。"
   ]
  },
  {
   "cell_type": "markdown",
   "metadata": {},
   "source": [
    "### bytestringを使ったファイルのコピー\n",
    "`cp`コマンドを作る。`System.Directory`の`copyFile`は使わない。"
   ]
  },
  {
   "cell_type": "code",
   "execution_count": 27,
   "metadata": {
    "collapsed": true
   },
   "outputs": [],
   "source": [
    "import System.Environment\n",
    "import System.Directory\n",
    "import System.IO\n",
    "import Control.Exception\n",
    "import qualified Data.ByteString.Lazy as B\n",
    "\n",
    "main = do\n",
    "    (fileName1:fileName2:_) <- getArgs\n",
    "    copy fileName1 fileName2\n",
    "\n",
    "copy source dest = do\n",
    "    contents <- B.readFile source -- B.readFileによってファイルを読む\n",
    "    bracketOnError\n",
    "        (openTempFile \".\" \"temp\") -- 一時ファイルをカレントディレクトリで開く\n",
    "        (\\(tempName, tempHandle) -> do -- 何かが起きたときにクリーンアップするためのラムダ\n",
    "            hClose tempHandle\n",
    "            removeFile tempName)\n",
    "        (\\(tempName, tempHandle) -> do\n",
    "            B.hPutStr tempHandle contents -- B.hPutStrによって一時ファイルに内容を書き込む\n",
    "            hClose tempHandle\n",
    "            renameFile tempName dest)"
   ]
  },
  {
   "cell_type": "markdown",
   "metadata": {},
   "source": [
    "bytestring用の関数が必要なのは読み書きの時だけ"
   ]
  }
 ],
 "metadata": {
  "kernelspec": {
   "display_name": "Haskell",
   "language": "haskell",
   "name": "haskell"
  },
  "language_info": {
   "codemirror_mode": "ihaskell",
   "file_extension": ".hs",
   "name": "haskell",
   "version": "7.10.2"
  }
 },
 "nbformat": 4,
 "nbformat_minor": 0
}
