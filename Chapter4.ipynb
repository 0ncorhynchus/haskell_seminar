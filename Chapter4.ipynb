{
 "cells": [
  {
   "cell_type": "markdown",
   "metadata": {},
   "source": [
    "# 第4章 Hello 再帰!\n",
    "\n",
    "×どうやって値を求めるか\n",
    "◯値が何であるか"
   ]
  },
  {
   "cell_type": "markdown",
   "metadata": {},
   "source": [
    "## 4.1 最高に最高!"
   ]
  },
  {
   "cell_type": "code",
   "execution_count": 2,
   "metadata": {
    "collapsed": false,
    "scrolled": true
   },
   "outputs": [
    {
     "data": {
      "text/plain": [
       "10"
      ]
     },
     "metadata": {},
     "output_type": "display_data"
    }
   ],
   "source": [
    "maximum' :: (Ord a) => [a] -> a\n",
    "maximum' [] = error \"empty list\"\n",
    "maximum' [x] = x\n",
    "maximum' (x:xs) = max x (maximum' xs)\n",
    "\n",
    "maximum' [1..10]"
   ]
  },
  {
   "cell_type": "markdown",
   "metadata": {},
   "source": [
    "## 4.2 さらにいくつかの再帰関数\n",
    "\n",
    "再帰筋繊維を鍛えて物理で殴る"
   ]
  },
  {
   "cell_type": "code",
   "execution_count": 4,
   "metadata": {
    "collapsed": false
   },
   "outputs": [
    {
     "data": {
      "text/plain": [
       "[1,1,1,1,1]"
      ]
     },
     "metadata": {},
     "output_type": "display_data"
    }
   ],
   "source": [
    "replicate' :: Int -> a -> [a]\n",
    "replicate' n x\n",
    "    | n <= 0    = []\n",
    "    | otherwise = x : replicate' (n-1) x\n",
    "    \n",
    "replicate' 5 1"
   ]
  },
  {
   "cell_type": "code",
   "execution_count": 5,
   "metadata": {
    "collapsed": false
   },
   "outputs": [
    {
     "data": {
      "text/plain": [
       "[1,2]"
      ]
     },
     "metadata": {},
     "output_type": "display_data"
    }
   ],
   "source": [
    "take' :: Int -> [a] -> [a]\n",
    "take' n _\n",
    "    | n <= 0   = []\n",
    "take' _ []     = []\n",
    "take' n (x:xs) = x : take' (n-1) xs\n",
    "\n",
    "take' 2 [1..100]"
   ]
  },
  {
   "cell_type": "code",
   "execution_count": 6,
   "metadata": {
    "collapsed": false
   },
   "outputs": [
    {
     "data": {
      "text/plain": [
       "[5,4,3,2,1]"
      ]
     },
     "metadata": {},
     "output_type": "display_data"
    }
   ],
   "source": [
    "reverse' :: [a] -> [a]\n",
    "reverse' [] = []\n",
    "reverse' (x:xs) = reverse' xs ++ [x]\n",
    "\n",
    "reverse' [1..5]"
   ]
  },
  {
   "cell_type": "code",
   "execution_count": 8,
   "metadata": {
    "collapsed": false
   },
   "outputs": [
    {
     "data": {
      "text/plain": [
       "[10,10,10,10,10]"
      ]
     },
     "metadata": {},
     "output_type": "display_data"
    }
   ],
   "source": [
    "repeat' :: a -> [a]\n",
    "repeat' x = x : repeat' x\n",
    "\n",
    "take' 5 (repeat' 10)"
   ]
  },
  {
   "cell_type": "code",
   "execution_count": 9,
   "metadata": {
    "collapsed": false
   },
   "outputs": [
    {
     "data": {
      "text/plain": [
       "[(1,6),(2,7),(3,8),(4,9),(5,10)]"
      ]
     },
     "metadata": {},
     "output_type": "display_data"
    }
   ],
   "source": [
    "zip' :: [a] -> [b] -> [(a, b)]\n",
    "zip' _ [] = []\n",
    "zip' [] _ = []\n",
    "zip' (x:xs) (y:ys) = (x,y) : zip' xs ys\n",
    "\n",
    "zip' [1..5] [6..10]"
   ]
  },
  {
   "cell_type": "code",
   "execution_count": 10,
   "metadata": {
    "collapsed": false
   },
   "outputs": [
    {
     "data": {
      "text/plain": [
       "True"
      ]
     },
     "metadata": {},
     "output_type": "display_data"
    }
   ],
   "source": [
    "elem' :: (Eq a) => a -> [a] -> Bool\n",
    "elem' _ []   = False\n",
    "elem' a (x:xs)\n",
    "    | a == x = True\n",
    "    | a /= x = elem' a xs\n",
    "    \n",
    "elem' 5 [1..10]"
   ]
  },
  {
   "cell_type": "markdown",
   "metadata": {},
   "source": [
    "## 4.3 クイック、ソート!"
   ]
  },
  {
   "cell_type": "markdown",
   "metadata": {},
   "source": [
    "ソートしたいリスト: [5,1,9,4,6,7,3]\n",
    "ピボットを選択(最初の値を選ぶ): 5\n",
    "ピボットよりも大きい部分と小さい部分に分け、同様のことを繰り返す\n",
    "- `[5,1,9,4,6,7,3]`\n",
    "- `[1,4,3] ++ [5] ++ [9,6,7]`\n",
    "- `([] ++ [1] ++ [4,3]) ++ [5] ++ ([6,7] ++ [9] ++ [])`\n",
    "- `([] ++ [1] ++ ([3] ++ [4] ++ [])) ++ [5] ++ (([] ++ [6] ++ [7]) ++ [9] ++ [])`\n",
    "- `[1,3,4,5,6,7,9]`"
   ]
  },
  {
   "cell_type": "code",
   "execution_count": 12,
   "metadata": {
    "collapsed": false
   },
   "outputs": [
    {
     "data": {
      "text/plain": [
       "[1,3,4,5,6,7,9]"
      ]
     },
     "metadata": {},
     "output_type": "display_data"
    },
    {
     "data": {
      "text/plain": [
       "\"        abcdeeefghhijklmnoooopqrrsttuuvwxyz\""
      ]
     },
     "metadata": {},
     "output_type": "display_data"
    }
   ],
   "source": [
    "quicksort :: (Ord a) => [a] -> [a]\n",
    "quicksort [] = []\n",
    "quicksort (x:xs) = \n",
    "    let smallerOrEqual = [a | a <- xs, a <= x] -- list内包記法: xsからa <= xなるaを取り出す\n",
    "        larger = [a | a <- xs, a > x]           -- 上に同じ\n",
    "    in quicksort smallerOrEqual ++ [x] ++ quicksort larger\n",
    "    \n",
    "quicksort [5,1,9,4,6,7,3]\n",
    "quicksort \"the quick brown fox jumps over the lazy dog\""
   ]
  },
  {
   "cell_type": "markdown",
   "metadata": {},
   "source": [
    "## 4.4 再帰的に考える\n",
    "\n",
    "- 自明な解を考える\n",
    "- 部分問題を見つけ出す\n",
    "\n",
    "再帰筋繊維を鍛えよ"
   ]
  }
 ],
 "metadata": {
  "kernelspec": {
   "display_name": "Haskell",
   "language": "haskell",
   "name": "haskell"
  },
  "language_info": {
   "codemirror_mode": "ihaskell",
   "file_extension": ".hs",
   "name": "haskell",
   "version": "7.10.2"
  }
 },
 "nbformat": 4,
 "nbformat_minor": 0
}
