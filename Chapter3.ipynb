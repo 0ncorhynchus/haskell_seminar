{
 "cells": [
  {
   "cell_type": "code",
   "execution_count": 5,
   "metadata": {
    "collapsed": false
   },
   "outputs": [
    {
     "data": {
      "text/plain": [
       "\"not 7\""
      ]
     },
     "metadata": {},
     "output_type": "display_data"
    },
    {
     "data": {
      "text/plain": [
       "\"This is 7\""
      ]
     },
     "metadata": {},
     "output_type": "display_data"
    }
   ],
   "source": [
    "lucky :: Int -> String\n",
    "lucky 7 = \"This is 7\"\n",
    "lucky x = \"not 7\"\n",
    "\n",
    "lucky 1\n",
    "lucky 7"
   ]
  },
  {
   "cell_type": "code",
   "execution_count": 7,
   "metadata": {
    "collapsed": false
   },
   "outputs": [
    {
     "data": {
      "text/plain": [
       "\"not 7\""
      ]
     },
     "metadata": {},
     "output_type": "display_data"
    },
    {
     "data": {
      "text/plain": [
       "\"not 7\""
      ]
     },
     "metadata": {},
     "output_type": "display_data"
    }
   ],
   "source": [
    "lucky :: Int -> String\n",
    "lucky x = \"not 7\"\n",
    "lucky 7 = \"This is 7\"\n",
    "\n",
    "lucky 1\n",
    "lucky 7"
   ]
  },
  {
   "cell_type": "code",
   "execution_count": 11,
   "metadata": {
    "collapsed": false
   },
   "outputs": [
    {
     "data": {
      "text/plain": [
       "1"
      ]
     },
     "metadata": {},
     "output_type": "display_data"
    },
    {
     "data": {
      "text/plain": [
       "2"
      ]
     },
     "metadata": {},
     "output_type": "display_data"
    },
    {
     "data": {
      "text/plain": [
       "6"
      ]
     },
     "metadata": {},
     "output_type": "display_data"
    },
    {
     "data": {
      "text/plain": [
       "24"
      ]
     },
     "metadata": {},
     "output_type": "display_data"
    },
    {
     "data": {
      "text/plain": [
       "120"
      ]
     },
     "metadata": {},
     "output_type": "display_data"
    }
   ],
   "source": [
    "factorial :: Int -> Int\n",
    "factorial 0 = 1\n",
    "factorial n = n * factorial(n - 1)\n",
    "\n",
    "factorial 1\n",
    "factorial 2\n",
    "factorial 3\n",
    "factorial 4\n",
    "factorial 5"
   ]
  },
  {
   "cell_type": "code",
   "execution_count": 66,
   "metadata": {
    "collapsed": false
   },
   "outputs": [
    {
     "data": {
      "text/plain": [
       "\"Alpha\""
      ]
     },
     "metadata": {},
     "output_type": "display_data"
    },
    {
     "data": {
      "text/plain": [
       "\"not defined\""
      ]
     },
     "metadata": {},
     "output_type": "display_data"
    }
   ],
   "source": [
    "charName :: Char -> String\n",
    "charName 'a' = \"Alpha\"\n",
    "charName 'b' = \"Bravo\"\n",
    "charName 'c' = \"Charlie\"\n",
    "charName char = \"not defined\"\n",
    "\n",
    "charName 'a'\n",
    "charName 'z'"
   ]
  },
  {
   "cell_type": "code",
   "execution_count": 14,
   "metadata": {
    "collapsed": false
   },
   "outputs": [
    {
     "data": {
      "text/plain": [
       "(6.0,8.0)"
      ]
     },
     "metadata": {},
     "output_type": "display_data"
    }
   ],
   "source": [
    "addVectors :: (Double, Double) -> (Double, Double) -> (Double, Double)\n",
    "addVectors a b = (fst a + fst b, snd a + snd b)\n",
    "\n",
    "addVectors (2, 3) (4, 5)"
   ]
  },
  {
   "cell_type": "code",
   "execution_count": 15,
   "metadata": {
    "collapsed": false
   },
   "outputs": [
    {
     "data": {
      "text/plain": [
       "(6.0,8.0)"
      ]
     },
     "metadata": {},
     "output_type": "display_data"
    }
   ],
   "source": [
    "addVectors' :: (Double, Double) -> (Double, Double) -> (Double, Double)\n",
    "addVectors' (x1, y1) (x2, y2) = (x1 + x2, y1 + y2)\n",
    "\n",
    "addVectors' (2, 3) (4, 5)"
   ]
  },
  {
   "cell_type": "code",
   "execution_count": 68,
   "metadata": {
    "collapsed": false
   },
   "outputs": [
    {
     "data": {
      "text/plain": [
       "2"
      ]
     },
     "metadata": {},
     "output_type": "display_data"
    }
   ],
   "source": [
    "firstInTriple :: (a, b, c) -> a\n",
    "firstInTriple (a, _, _) = a　-- `a` is not a type-parameter anymore, but this is not recommended\n",
    "\n",
    "firstInTriple (2, 'a', \"string\")"
   ]
  },
  {
   "cell_type": "code",
   "execution_count": 20,
   "metadata": {
    "collapsed": false
   },
   "outputs": [
    {
     "data": {
      "text/plain": [
       "[103,403]"
      ]
     },
     "metadata": {},
     "output_type": "display_data"
    }
   ],
   "source": [
    "xs = [(1, 3), (4, 3), (2, 4)]\n",
    "[a * 100 + 3 | (a, 3) <- xs]"
   ]
  },
  {
   "cell_type": "code",
   "execution_count": 23,
   "metadata": {
    "collapsed": false
   },
   "outputs": [
    {
     "data": {
      "text/plain": [
       "1"
      ]
     },
     "metadata": {},
     "output_type": "display_data"
    },
    {
     "data": {
      "text/html": [
       "<style>/* Styles used for the Hoogle display in the pager */\n",
       ".hoogle-doc {\n",
       "display: block;\n",
       "padding-bottom: 1.3em;\n",
       "padding-left: 0.4em;\n",
       "}\n",
       ".hoogle-code {\n",
       "display: block;\n",
       "font-family: monospace;\n",
       "white-space: pre;\n",
       "}\n",
       ".hoogle-text {\n",
       "display: block;\n",
       "}\n",
       ".hoogle-name {\n",
       "color: green;\n",
       "font-weight: bold;\n",
       "}\n",
       ".hoogle-head {\n",
       "font-weight: bold;\n",
       "}\n",
       ".hoogle-sub {\n",
       "display: block;\n",
       "margin-left: 0.4em;\n",
       "}\n",
       ".hoogle-package {\n",
       "font-weight: bold;\n",
       "font-style: italic;\n",
       "}\n",
       ".hoogle-module {\n",
       "font-weight: bold;\n",
       "}\n",
       ".hoogle-class {\n",
       "font-weight: bold;\n",
       "}\n",
       ".get-type {\n",
       "color: green;\n",
       "font-weight: bold;\n",
       "font-family: monospace;\n",
       "display: block;\n",
       "white-space: pre-wrap;\n",
       "}\n",
       ".show-type {\n",
       "color: green;\n",
       "font-weight: bold;\n",
       "font-family: monospace;\n",
       "margin-left: 1em;\n",
       "}\n",
       ".mono {\n",
       "font-family: monospace;\n",
       "display: block;\n",
       "}\n",
       ".err-msg {\n",
       "color: red;\n",
       "font-style: italic;\n",
       "font-family: monospace;\n",
       "white-space: pre;\n",
       "display: block;\n",
       "}\n",
       "#unshowable {\n",
       "color: red;\n",
       "font-weight: bold;\n",
       "}\n",
       ".err-msg.in.collapse {\n",
       "padding-top: 0.7em;\n",
       "}\n",
       ".highlight-code {\n",
       "white-space: pre;\n",
       "font-family: monospace;\n",
       "}\n",
       ".suggestion-warning { \n",
       "font-weight: bold;\n",
       "color: rgb(200, 130, 0);\n",
       "}\n",
       ".suggestion-error { \n",
       "font-weight: bold;\n",
       "color: red;\n",
       "}\n",
       ".suggestion-name {\n",
       "font-weight: bold;\n",
       "}\n",
       "</style><span class='err-msg'>empty list</span>"
      ],
      "text/plain": [
       "empty list"
      ]
     },
     "metadata": {},
     "output_type": "display_data"
    }
   ],
   "source": [
    "head' :: [a] -> a\n",
    "head' [] = error \"empty list\"\n",
    "head' (x:_) = x\n",
    "\n",
    "head' [1, 2, 3]\n",
    "head' []"
   ]
  },
  {
   "cell_type": "code",
   "execution_count": 10,
   "metadata": {
    "collapsed": false
   },
   "outputs": [
    {
     "data": {
      "text/plain": [
       "3"
      ]
     },
     "metadata": {},
     "output_type": "display_data"
    },
    {
     "data": {
      "text/plain": [
       "100000000"
      ]
     },
     "metadata": {},
     "output_type": "display_data"
    }
   ],
   "source": [
    "last' :: [a] -> a\n",
    "last' [] = error \"empty list\"\n",
    "last' (x:[]) = x\n",
    "last' (_:xs) = last' xs\n",
    "\n",
    "last' [1, 2, 3]\n",
    "last' [1..100000000]"
   ]
  },
  {
   "cell_type": "code",
   "execution_count": 33,
   "metadata": {
    "collapsed": false
   },
   "outputs": [
    {
     "data": {
      "text/plain": [
       "\"empty string\""
      ]
     },
     "metadata": {},
     "output_type": "display_data"
    },
    {
     "data": {
      "text/plain": [
       "\"a : abc\""
      ]
     },
     "metadata": {},
     "output_type": "display_data"
    }
   ],
   "source": [
    "firstLetter :: String -> String\n",
    "firstLetter [] = \"empty string\"\n",
    "firstLetter all@(c:_) = [c] ++ \" : \" ++ all -- brackets around `c` are not omissible\n",
    "\n",
    "firstLetter \"\"\n",
    "firstLetter \"abc\""
   ]
  },
  {
   "cell_type": "code",
   "execution_count": 37,
   "metadata": {
    "collapsed": false
   },
   "outputs": [
    {
     "data": {
      "text/plain": [
       "\"normal\""
      ]
     },
     "metadata": {},
     "output_type": "display_data"
    }
   ],
   "source": [
    "bmiTell :: Double -> String\n",
    "bmiTell bmi\n",
    "    | bmi <= 18.5 = \"underweight\"\n",
    "    | bmi <= 25.0 = \"normal\"\n",
    "    | bmi <= 30.0 = \"overweight\"\n",
    "    | otherwise   = \"OMG\"\n",
    "\n",
    "bmiTell 21"
   ]
  },
  {
   "cell_type": "code",
   "execution_count": 42,
   "metadata": {
    "collapsed": false
   },
   "outputs": [
    {
     "data": {
      "text/plain": [
       "LT"
      ]
     },
     "metadata": {},
     "output_type": "display_data"
    },
    {
     "data": {
      "text/plain": [
       "GT"
      ]
     },
     "metadata": {},
     "output_type": "display_data"
    },
    {
     "data": {
      "text/plain": [
       "EQ"
      ]
     },
     "metadata": {},
     "output_type": "display_data"
    }
   ],
   "source": [
    "compare' :: (Ord a) => a -> a -> Ordering\n",
    "a `compare'` b\n",
    "    | a > b     = GT\n",
    "    | a < b     = LT\n",
    "    | otherwise = EQ\n",
    "\n",
    "1 `compare'` 2\n",
    "2 `compare'` 1\n",
    "1 `compare'` 1"
   ]
  },
  {
   "cell_type": "code",
   "execution_count": 18,
   "metadata": {
    "collapsed": false
   },
   "outputs": [
    {
     "data": {
      "text/plain": [
       "\"normal\""
      ]
     },
     "metadata": {},
     "output_type": "display_data"
    }
   ],
   "source": [
    "bmiTell' :: Double -> Double -> String\n",
    "bmiTell' weight height\n",
    "    | bmi <= 18.5 = let str = \"underweight\" in str\n",
    "    | bmi <= 25.0 = \"normal\"\n",
    "    | bmi <= 30.0 = \"overweight\"\n",
    "    | otherwise   = \"OMG\"\n",
    "    where bmi = weight / height ^ 2\n",
    "\n",
    "bmiTell' 65 1.75"
   ]
  },
  {
   "cell_type": "code",
   "execution_count": 47,
   "metadata": {
    "collapsed": false
   },
   "outputs": [
    {
     "data": {
      "text/plain": [
       "\"RL\""
      ]
     },
     "metadata": {},
     "output_type": "display_data"
    },
    {
     "data": {
      "text/plain": [
       "\"RL\""
      ]
     },
     "metadata": {},
     "output_type": "display_data"
    }
   ],
   "source": [
    "initials :: String -> String -> String\n",
    "initials firstname lastname = [f, l]\n",
    "    where (f:_) = firstname\n",
    "          (l:_) = lastname\n",
    "\n",
    "initials' :: String -> String -> String\n",
    "initials' (f:_) (l:_) = [f, l]\n",
    "\n",
    "initials  \"Robert\" \"Langdon\"\n",
    "initials' \"Robert\" \"Langdon\""
   ]
  },
  {
   "cell_type": "code",
   "execution_count": 48,
   "metadata": {
    "collapsed": false
   },
   "outputs": [
    {
     "data": {
      "text/plain": [
       "[21.224489795918366,16.3265306122449,26.122448979591837]"
      ]
     },
     "metadata": {},
     "output_type": "display_data"
    }
   ],
   "source": [
    "calcBmis :: [(Double, Double)] -> [Double]\n",
    "calcBmis xs = [bmi w h | (w, h) <- xs]\n",
    "    where bmi weight height = weight / height ^ 2\n",
    "\n",
    "calcBmis [(65, 1.75), (50, 1.75), (80, 1.75)]"
   ]
  },
  {
   "cell_type": "code",
   "execution_count": 12,
   "metadata": {
    "collapsed": false
   },
   "outputs": [
    {
     "data": {
      "text/plain": [
       "471.23889803846896"
      ]
     },
     "metadata": {},
     "output_type": "display_data"
    },
    {
     "data": {
      "text/plain": [
       "471.23889803846896"
      ]
     },
     "metadata": {},
     "output_type": "display_data"
    }
   ],
   "source": [
    "cylinder :: Double -> Double -> Double\n",
    "cylinder r h =\n",
    "    let sideArea = 2 * pi * r * h\n",
    "        topArea  = pi * r ^ 2\n",
    "    in  sideArea + topArea * 2\n",
    "\n",
    "cylinder' :: Double -> Double -> Double\n",
    "cylinder' r h = sideArea + topArea * 2\n",
    "    where sideArea = 2 * pi * r * h\n",
    "          topArea  = pi * r ^ 2\n",
    "\n",
    "cylinder 5 10\n",
    "cylinder' 5 10"
   ]
  },
  {
   "cell_type": "code",
   "execution_count": 16,
   "metadata": {
    "collapsed": false
   },
   "outputs": [
    {
     "data": {
      "text/plain": [
       "\"(6,6)\""
      ]
     },
     "metadata": {},
     "output_type": "display_data"
    }
   ],
   "source": [
    "x = let (a, b, c) = (1, 2, 3) in a + b + c\n",
    "y = a + b + c where (a, b, c) = (1, 2, 3)\n",
    "show (x, y)"
   ]
  },
  {
   "cell_type": "code",
   "execution_count": 63,
   "metadata": {
    "collapsed": false
   },
   "outputs": [
    {
     "data": {
      "text/plain": [
       "\"This list is empty\""
      ]
     },
     "metadata": {},
     "output_type": "display_data"
    },
    {
     "data": {
      "text/plain": [
       "\"This list is empty\""
      ]
     },
     "metadata": {},
     "output_type": "display_data"
    }
   ],
   "source": [
    "describeList :: [a] -> String\n",
    "describeList ls = case ls of []  -> \"empty\"\n",
    "                             [x] -> \"singleton\"\n",
    "                             xs  -> \"a longer list\"\n",
    "\n",
    "describeList' :: [a] -> String\n",
    "describeList' ls = \"This list is \" ++ what ls\n",
    "    where what []  = \"empty\"\n",
    "          what [x] = \"singleton\"\n",
    "          what xs  = \"a longer list\"\n",
    "\n",
    "describeList []\n",
    "describeList' []"
   ]
  }
 ],
 "metadata": {
  "kernelspec": {
   "display_name": "Haskell",
   "language": "haskell",
   "name": "haskell"
  },
  "language_info": {
   "codemirror_mode": "ihaskell",
   "file_extension": ".hs",
   "name": "haskell",
   "version": "7.10.2"
  }
 },
 "nbformat": 4,
 "nbformat_minor": 0
}
